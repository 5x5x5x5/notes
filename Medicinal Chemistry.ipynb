{
 "metadata": {
  "name": ""
 },
 "nbformat": 3,
 "nbformat_minor": 0,
 "worksheets": [
  {
   "cells": [
    {
     "cell_type": "heading",
     "level": 1,
     "metadata": {},
     "source": [
      "Medicinal Chemistry on EdX\n"
     ]
    },
    {
     "cell_type": "markdown",
     "metadata": {},
     "source": [
      "from Davidson College\n",
      "Professor ..."
     ]
    },
    {
     "cell_type": "markdown",
     "metadata": {},
     "source": [
      "# Chapter 2 - Drug Discovery: From Concept to Market\n",
      "## - Phenotype vs. Target-Based Drug Discovery\n",
      "## - Drug Development Outline\n",
      "## - Intellectual Property"
     ]
    },
    {
     "cell_type": "markdown",
     "metadata": {},
     "source": [
      "### Target-Based Drug Discovery\n",
      "* -plus- fast biochemical tests (in vitro)\n",
      "* -minus- may not work in animals (in vivo)\n",
      "\n",
      "### Phenotype-Based Drug Discovery\n",
      "* -plus- compound has activity\n",
      "* -plus- do not need to know mechanism\n",
      "* -minus- testing is slow in animals (in vivo)\n",
      "* -minus- need an active molecule\n",
      "\n",
      "#### Typical blended approach\n",
      "- A phenotype model begins with an observed effect in vivo. The compound that causes the efect is the lead molecule.\n",
      "- Drug discovery group works to identify the the protein to which the molecule binds in the body. i.e. seek out the target responsible for biological activity\n",
      "- once target is known, a molecular biology group will attempt to develop a biochemical binding assay to test the ability of molecules to bind the target.\n",
      "- Newly prepared compounds are then tested with the rapid in vitro binding assay.\n",
      "\n",
      "#### Key excerpt from Nature article \"Phentypic Sceens, take two\"\n",
      "\n",
      "> The key hurdle, as Varney sees it, is the difficulty in identifying the targets of active molecules. \"What I feel going on in the industry is that phenotypic screens are starting to make the turn - becoming trendy, in vogue. But without some fundamental advance in target deconvolution such as easily conducted interaction or affinity screens, I see this as a big effort with relatively little value,\" says Varney\n"
     ]
    },
    {
     "cell_type": "markdown",
     "metadata": {},
     "source": [
      "### Enzymes\n",
      "Enzymes catalyze reactions - accelerate chemical reactions in the body.\n",
      "\n",
      "$$ E + S \\leftrightharpoons ES \\rightarrow E + P $$\n",
      "\n",
      "Michaelis-Menten Equation\n",
      "\n",
      "$$ V = \\frac{V_{max}[S]}{K_m + [S]}  $$\n",
      "\n",
      "And then a cutting edge breakthrough in the 1930s gives us the Lineweaver-Burke plot\n",
      "\n",
      "$$ \\frac{1}{V} = \\frac{K_m}{V_{max}}\\frac{1}{[S]} + \\frac{1}{V_{max}}  $$\n"
     ]
    },
    {
     "cell_type": "markdown",
     "metadata": {},
     "source": [
      "##### Some more MathJax practice\n",
      "\n",
      "Dissociation equilibrium constant\n",
      "$$ K_i = \\frac{[E][I]}{[E-I]}  $$\n",
      "\n",
      "$$ K^{obs}_m = \\frac{K_m}{K_i}[I] + K_m  $$"
     ]
    },
    {
     "cell_type": "markdown",
     "metadata": {},
     "source": [
      "### Clark's Occupancy Theory\n",
      "\n",
      "Clark's Equation...[add later] leads to\n",
      "\n",
      "$$ K_D = EC_{50} $$"
     ]
    },
    {
     "cell_type": "code",
     "collapsed": false,
     "input": [],
     "language": "python",
     "metadata": {},
     "outputs": []
    }
   ],
   "metadata": {}
  }
 ]
}